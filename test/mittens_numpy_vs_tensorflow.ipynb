{
 "cells": [
  {
   "cell_type": "markdown",
   "metadata": {},
   "source": [
    "# Informal tests of both GloVe implementations\n",
    "\n",
    "The `tensorflow` and `numpy` implementations of GloVe encode the same objective and use the same optimizer and so should arrive at equivalently-good solutions (identical up to randomness). This notebook tests that assumption."
   ]
  },
  {
   "cell_type": "markdown",
   "metadata": {},
   "source": [
    "## Imports and prep"
   ]
  },
  {
   "cell_type": "code",
   "execution_count": 1,
   "metadata": {
    "ExecuteTime": {
     "end_time": "2018-03-25T19:32:16.510808Z",
     "start_time": "2018-03-25T19:32:16.476618Z"
    }
   },
   "outputs": [],
   "source": [
    "%load_ext autoreload"
   ]
  },
  {
   "cell_type": "code",
   "execution_count": 2,
   "metadata": {
    "ExecuteTime": {
     "end_time": "2018-03-25T19:32:16.517591Z",
     "start_time": "2018-03-25T19:32:16.513910Z"
    }
   },
   "outputs": [],
   "source": [
    "%autoreload 2"
   ]
  },
  {
   "cell_type": "code",
   "execution_count": 3,
   "metadata": {
    "ExecuteTime": {
     "end_time": "2018-03-25T19:32:19.475133Z",
     "start_time": "2018-03-25T19:32:16.522761Z"
    }
   },
   "outputs": [],
   "source": [
    "%matplotlib inline\n",
    "from collections import defaultdict\n",
    "import matplotlib.pyplot as plt\n",
    "import numpy as np\n",
    "import pandas as pd\n",
    "import random\n",
    "from scipy.spatial.distance import euclidean\n",
    "\n",
    "import mittens.tf_mittens as tfm\n",
    "import mittens.np_mittens as npm"
   ]
  },
  {
   "cell_type": "markdown",
   "metadata": {},
   "source": [
    "### General test settings"
   ]
  },
  {
   "cell_type": "code",
   "execution_count": 4,
   "metadata": {
    "ExecuteTime": {
     "end_time": "2018-03-25T19:32:19.506869Z",
     "start_time": "2018-03-25T19:32:19.477653Z"
    }
   },
   "outputs": [],
   "source": [
    "n_words = 500\n",
    "embedding_dim = 50\n",
    "max_iter = 1000"
   ]
  },
  {
   "cell_type": "markdown",
   "metadata": {},
   "source": [
    "### Random symmetric count matrix (GloVe input)"
   ]
  },
  {
   "cell_type": "code",
   "execution_count": 5,
   "metadata": {
    "ExecuteTime": {
     "end_time": "2018-03-25T19:32:19.545761Z",
     "start_time": "2018-03-25T19:32:19.509070Z"
    }
   },
   "outputs": [],
   "source": [
    "def make_word_word_matrix(n=50):\n",
    "    \"\"\"Returns a symmetric matrix where the entries are drawn from an\n",
    "    exponential distribution\"\"\"\n",
    "    base = np.random.exponential(1.5, size=(n, n)) / 2\n",
    "    return np.floor(base + base.T)\n"
   ]
  },
  {
   "cell_type": "code",
   "execution_count": 6,
   "metadata": {
    "ExecuteTime": {
     "end_time": "2018-03-25T19:32:19.599820Z",
     "start_time": "2018-03-25T19:32:19.549014Z"
    }
   },
   "outputs": [],
   "source": [
    "X = make_word_word_matrix(n_words)"
   ]
  },
  {
   "cell_type": "markdown",
   "metadata": {},
   "source": [
    "### Correlation test\n",
    "\n",
    "We expect GloVe models to achieve a high correlation between the dot product of the learned vectors $w_{i}$ and $w_{j}$ and the probability of co-occurrence of words $i$ and $j$. This tests the extent to which that is true:"
   ]
  },
  {
   "cell_type": "code",
   "execution_count": 7,
   "metadata": {
    "ExecuteTime": {
     "end_time": "2018-03-25T19:32:19.649842Z",
     "start_time": "2018-03-25T19:32:19.602293Z"
    }
   },
   "outputs": [],
   "source": [
    "def correlation_test(true, embeddings):\n",
    "    \"\"\"Tests the extent to which the pairwise dot-product of vectors\n",
    "    in `pred` are proportional to the log of the corresponding cell\n",
    "    counts in `true` (ignoring 0s, in accord with the GloVe objective).\n",
    "    \"\"\"\n",
    "    true[true > 5] = 5\n",
    "    nonzero = true > 0\n",
    "    M = embeddings.dot(embeddings.T)\n",
    "    true_sums = true.sum(axis=1)\n",
    "    row_sums = np.repeat(true_sums[:, np.newaxis], len(true_sums), axis=1)\n",
    "    col_sums = np.repeat(true_sums[np.newaxis, :], len(true_sums), axis=0)\n",
    "    vs_cooccurrence = np.corrcoef(np.log(true[nonzero]), \n",
    "                                  M[nonzero])[0, 1]\n",
    "    vs_prob = np.corrcoef(np.log(true[nonzero]) + np.log(col_sums[nonzero]), \n",
    "                          M[nonzero])[0, 1]\n",
    "    vs_pmi = np.corrcoef(np.log(true[nonzero]) + np.log(col_sums[nonzero]) + np.log(row_sums[nonzero]), \n",
    "                          M[nonzero])[0, 1]\n",
    "    print(\"Cooccurrence: {:0.4f} | Prob: {:0.4f} | PMI: {:0.4f}\".format(vs_cooccurrence, vs_prob, vs_pmi))\n",
    "    return vs_cooccurrence, vs_prob, vs_pmi"
   ]
  },
  {
   "cell_type": "markdown",
   "metadata": {},
   "source": [
    "## Tests"
   ]
  },
  {
   "cell_type": "code",
   "execution_count": 8,
   "metadata": {
    "ExecuteTime": {
     "end_time": "2018-03-25T19:32:19.693502Z",
     "start_time": "2018-03-25T19:32:19.652268Z"
    }
   },
   "outputs": [],
   "source": [
    "def convergence_plot(np_version, tf_version):\n",
    "    plt.figure(figsize=(8,5))\n",
    "    xx = np.log([1 + v for v in range(len(np_version.errors))])\n",
    "    plt.plot(xx, np.log(np_version.errors))\n",
    "    plt.plot(xx, np.log(tf_version.errors))\n",
    "    plt.ylabel(\"Log error\")\n",
    "    plt.xlabel(\"Log Epoch\")\n",
    "    plt.legend(['Numpy', 'Tensorflow'])\n",
    "    plt.show()"
   ]
  },
  {
   "cell_type": "markdown",
   "metadata": {},
   "source": [
    "### GloVe convergence"
   ]
  },
  {
   "cell_type": "code",
   "execution_count": 9,
   "metadata": {
    "ExecuteTime": {
     "end_time": "2018-03-25T19:32:28.489913Z",
     "start_time": "2018-03-25T19:32:19.696117Z"
    }
   },
   "outputs": [
    {
     "name": "stderr",
     "output_type": "stream",
     "text": [
      "Iteration 1000: error 3728.9574"
     ]
    },
    {
     "name": "stdout",
     "output_type": "stream",
     "text": [
      "Cooccurrence: 0.4829 | Prob: 0.4830 | PMI: 0.4831\n"
     ]
    }
   ],
   "source": [
    "npglove = npm.GloVe(n=embedding_dim, max_iter=max_iter, xmax=5)\n",
    "npG = npglove.fit(X)\n",
    "_ = correlation_test(X, npG)"
   ]
  },
  {
   "cell_type": "code",
   "execution_count": 10,
   "metadata": {
    "ExecuteTime": {
     "end_time": "2018-03-25T19:32:36.194070Z",
     "start_time": "2018-03-25T19:32:28.496685Z"
    },
    "scrolled": true
   },
   "outputs": [
    {
     "name": "stderr",
     "output_type": "stream",
     "text": [
      "Iteration 1000: loss: 3650.55859375525"
     ]
    },
    {
     "name": "stdout",
     "output_type": "stream",
     "text": [
      "Cooccurrence: 0.4726 | Prob: 0.4723 | PMI: 0.4721\n"
     ]
    }
   ],
   "source": [
    "tfglove = tfm.GloVe(n=embedding_dim, max_iter=max_iter, xmax=5)\n",
    "tfG = tfglove.fit(X)\n",
    "_ = correlation_test(X, tfG)"
   ]
  },
  {
   "cell_type": "code",
   "execution_count": 11,
   "metadata": {
    "ExecuteTime": {
     "end_time": "2018-03-25T19:32:36.442914Z",
     "start_time": "2018-03-25T19:32:36.196792Z"
    }
   },
   "outputs": [
    {
     "data": {
      "image/png": "[encoded data removed]",
      "text/plain": [
       "<Figure size 576x360 with 1 Axes>"
      ]
     },
     "metadata": {},
     "output_type": "display_data"
    }
   ],
   "source": [
    "convergence_plot(npglove, tfglove)"
   ]
  },
  {
   "cell_type": "markdown",
   "metadata": {},
   "source": [
    "### Modified GloVe\n",
    "\n",
    "For modified GloVe models, we start with representations for a subset of the words."
   ]
  },
  {
   "cell_type": "code",
   "execution_count": 12,
   "metadata": {
    "ExecuteTime": {
     "end_time": "2018-03-25T19:32:36.478055Z",
     "start_time": "2018-03-25T19:32:36.446204Z"
    }
   },
   "outputs": [],
   "source": [
    "vocab = ['w_{}'.format(i) for i in range(n_words)]\n",
    "\n",
    "X_df = pd.DataFrame(X, index=pd.Index(vocab), columns=vocab)"
   ]
  },
  {
   "cell_type": "code",
   "execution_count": 13,
   "metadata": {
    "ExecuteTime": {
     "end_time": "2018-03-25T19:32:36.525906Z",
     "start_time": "2018-03-25T19:32:36.482586Z"
    }
   },
   "outputs": [],
   "source": [
    "val = 2 * np.sqrt(6 / (n_words + embedding_dim))\n",
    "EMBEDDING = {w: np.random.uniform(-val, val, size=embedding_dim)\n",
    "             for w in random.sample(vocab, int(n_words*0.5))}                       "
   ]
  },
  {
   "cell_type": "markdown",
   "metadata": {},
   "source": [
    "For these models, we want the resulting vectors to be closer on average to the starting point for vectors with initial embeddings than those without such warm starting points. We don't guarantee this for the warm start, but the objective function includes such a term for Mittens."
   ]
  },
  {
   "cell_type": "code",
   "execution_count": 14,
   "metadata": {
    "ExecuteTime": {
     "end_time": "2018-03-25T19:32:36.585062Z",
     "start_time": "2018-03-25T19:32:36.528833Z"
    }
   },
   "outputs": [],
   "source": [
    "def get_warm_distances(warm_glove, G_warm, verbose=True, n_words=n_words, EMBEDDING=EMBEDDING):\n",
    "        \n",
    "    warm_dists = defaultdict(list)\n",
    "    warm_start = warm_glove.G_start\n",
    "    try:\n",
    "        warm_orig = warm_glove.sess.run(warm_glove.original_embedding)\n",
    "    except AttributeError:\n",
    "        warm_orig = warm_glove.original_embedding\n",
    "    for i in range(n_words):        \n",
    "        if \"w_{}\".format(i) in EMBEDDING:                \n",
    "            dist = euclidean(warm_orig[i], G_warm[i])\n",
    "            warm_dists['warm'].append(dist)\n",
    "        else:\n",
    "            dist = euclidean(warm_start[i], G_warm[i])\n",
    "            warm_dists['not-warm'].append(dist)\n",
    "            \n",
    "    warm_mean = np.mean(warm_dists['warm'])    \n",
    "    not_warm_mean = np.mean(warm_dists['not-warm'])\n",
    "    \n",
    "    if verbose:\n",
    "        print(\"Warm mean distance: {}\".format(warm_mean))\n",
    "        print(\"Not warm mean distance: {}\".format(not_warm_mean))\n",
    "\n",
    "    return warm_dists"
   ]
  },
  {
   "cell_type": "markdown",
   "metadata": {},
   "source": [
    "### Warm start"
   ]
  },
  {
   "cell_type": "code",
   "execution_count": 15,
   "metadata": {
    "ExecuteTime": {
     "end_time": "2018-03-25T19:32:44.011484Z",
     "start_time": "2018-03-25T19:32:36.587812Z"
    }
   },
   "outputs": [
    {
     "name": "stderr",
     "output_type": "stream",
     "text": [
      "Iteration 1000: loss: 388.7316589355469"
     ]
    },
    {
     "name": "stdout",
     "output_type": "stream",
     "text": [
      "Warm mean distance: 2.5804762358665467\n",
      "Not warm mean distance: 2.6499979329729637\n"
     ]
    }
   ],
   "source": [
    "tf_warm_glove = tfm.Mittens(n=embedding_dim, max_iter=max_iter, mittens=0)\n",
    "G_warm = tf_warm_glove.fit(X, vocab=vocab, initial_embedding_dict=EMBEDDING)\n",
    "warm_dists = get_warm_distances(tf_warm_glove, G_warm)"
   ]
  },
  {
   "cell_type": "code",
   "execution_count": 16,
   "metadata": {
    "ExecuteTime": {
     "end_time": "2018-03-25T19:32:52.284883Z",
     "start_time": "2018-03-25T19:32:44.015902Z"
    }
   },
   "outputs": [
    {
     "name": "stderr",
     "output_type": "stream",
     "text": [
      "Iteration 1000: error 387.7476"
     ]
    },
    {
     "name": "stdout",
     "output_type": "stream",
     "text": [
      "Warm mean distance: 2.5988117011544256\n",
      "Not warm mean distance: 2.6482432461004355\n"
     ]
    }
   ],
   "source": [
    "np_warm_glove = npm.Mittens(n=embedding_dim, max_iter=max_iter, mittens=0)\n",
    "G_warm = np_warm_glove.fit(X, vocab=vocab, initial_embedding_dict=EMBEDDING)\n",
    "warm_dists = get_warm_distances(np_warm_glove, G_warm)"
   ]
  },
  {
   "cell_type": "code",
   "execution_count": 17,
   "metadata": {
    "ExecuteTime": {
     "end_time": "2018-03-25T19:32:52.535611Z",
     "start_time": "2018-03-25T19:32:52.294032Z"
    }
   },
   "outputs": [
    {
     "data": {
      "image/png": "[encoded data removed]",
      "text/plain": [
       "<Figure size 576x360 with 1 Axes>"
      ]
     },
     "metadata": {},
     "output_type": "display_data"
    }
   ],
   "source": [
    "convergence_plot(np_warm_glove, tf_warm_glove)"
   ]
  },
  {
   "cell_type": "markdown",
   "metadata": {},
   "source": [
    "## Mittens with weights 1"
   ]
  },
  {
   "cell_type": "code",
   "execution_count": 18,
   "metadata": {
    "ExecuteTime": {
     "end_time": "2018-03-25T19:33:00.096818Z",
     "start_time": "2018-03-25T19:32:52.538602Z"
    }
   },
   "outputs": [
    {
     "name": "stderr",
     "output_type": "stream",
     "text": [
      "Iteration 1000: loss: 455.6892089843755"
     ]
    },
    {
     "name": "stdout",
     "output_type": "stream",
     "text": [
      "Warm mean distance: 0.11217507693171501\n",
      "Not warm mean distance: 2.0389575293353337\n",
      "Cooccurrence: 0.1407 | Prob: 0.1393 | PMI: 0.1379\n"
     ]
    }
   ],
   "source": [
    "tf_mittens = tfm.Mittens(n=embedding_dim, max_iter=1000, mittens=1)\n",
    "G_mittens = tf_mittens.fit(X, vocab=vocab, initial_embedding_dict=EMBEDDING)\n",
    "warm_dists = get_warm_distances(tf_mittens, G_mittens)\n",
    "_ = correlation_test(X, G_mittens)"
   ]
  },
  {
   "cell_type": "code",
   "execution_count": 19,
   "metadata": {
    "ExecuteTime": {
     "end_time": "2018-03-25T19:33:08.930619Z",
     "start_time": "2018-03-25T19:33:00.099653Z"
    }
   },
   "outputs": [
    {
     "name": "stderr",
     "output_type": "stream",
     "text": [
      "Iteration 1000: error 455.6794"
     ]
    },
    {
     "name": "stdout",
     "output_type": "stream",
     "text": [
      "Warm mean distance: 0.11047041923313385\n",
      "Not warm mean distance: 2.050256601458261\n",
      "Cooccurrence: 0.1308 | Prob: 0.1289 | PMI: 0.1272\n"
     ]
    }
   ],
   "source": [
    "np_mittens = npm.Mittens(n=embedding_dim, max_iter=1000, mittens=1, display_progress=10)\n",
    "G_mittens = np_mittens.fit(X, vocab=vocab, initial_embedding_dict=EMBEDDING) #, W=W, C=C, bw=bw, bc=bc)\n",
    "warm_dists = get_warm_distances(np_mittens, G_mittens)\n",
    "_ = correlation_test(X, G_mittens)"
   ]
  },
  {
   "cell_type": "code",
   "execution_count": 20,
   "metadata": {
    "ExecuteTime": {
     "end_time": "2018-03-25T19:33:09.294657Z",
     "start_time": "2018-03-25T19:33:08.933423Z"
    }
   },
   "outputs": [
    {
     "data": {
      "image/png": "[encoded data removed]",
      "text/plain": [
       "<Figure size 576x360 with 1 Axes>"
      ]
     },
     "metadata": {},
     "output_type": "display_data"
    }
   ],
   "source": [
    "convergence_plot(np_mittens, tf_mittens)"
   ]
  }
 ],
 "metadata": {
  "kernelspec": {
   "display_name": "Python 3",
   "language": "python",
   "name": "python3"
  },
  "language_info": {
   "codemirror_mode": {
    "name": "ipython",
    "version": 3
   },
   "file_extension": ".py",
   "mimetype": "text/x-python",
   "name": "python",
   "nbconvert_exporter": "python",
   "pygments_lexer": "ipython3",
   "version": "3.5.0"
  },
  "varInspector": {
   "cols": {
    "lenName": 16,
    "lenType": 16,
    "lenVar": 40
   },
   "kernels_config": {
    "python": {
     "delete_cmd_postfix": "",
     "delete_cmd_prefix": "del ",
     "library": "var_list.py",
     "varRefreshCmd": "print(var_dic_list())"
    },
    "r": {
     "delete_cmd_postfix": ") ",
     "delete_cmd_prefix": "rm(",
     "library": "var_list.r",
     "varRefreshCmd": "cat(var_dic_list()) "
    }
   },
   "position": {
    "height": "379px",
    "left": "910px",
    "right": "20px",
    "top": "120px",
    "width": "341px"
   },
   "types_to_exclude": [
    "module",
    "function",
    "builtin_function_or_method",
    "instance",
    "_Feature"
   ],
   "window_display": false
  },
  "widgets": {
   "state": {},
   "version": "1.1.2"
  }
 },
 "nbformat": 4,
 "nbformat_minor": 1
}
